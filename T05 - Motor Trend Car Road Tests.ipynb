{
 "cells": [
  {
   "cell_type": "markdown",
   "id": "ab834814-1273-4225-8be0-0e979d48c8e9",
   "metadata": {},
   "source": [
    "### 1.1 Realiza una regresión tomando 'mpg' como salida y eliminando la columna 'model'. Considera todos los demás factores como numéricos/ordinales."
   ]
  },
  {
   "cell_type": "code",
   "execution_count": 46,
   "id": "fa11ea8d-1e92-474a-a808-1d9238d4cd11",
   "metadata": {},
   "outputs": [],
   "source": [
    "import pandas as pd\n",
    "import numpy as np"
   ]
  },
  {
   "cell_type": "code",
   "execution_count": 48,
   "id": "66f557f6-1b4f-43eb-8c5d-9b5734846a95",
   "metadata": {},
   "outputs": [],
   "source": [
    "data = pd.read_excel('Motor Trend Car Road Tests.xlsx')"
   ]
  },
  {
   "cell_type": "code",
   "execution_count": 7,
   "id": "3080cf5b-f0de-48e6-969b-7c9b5973c997",
   "metadata": {},
   "outputs": [],
   "source": [
    "data_filtered = data.drop(columns=['model'])\n",
    "\n",
    "X = data_filtered.drop(columns=['mpg'])\n",
    "y = data_filtered['mpg']\n",
    "X_scaled = (X - X.mean()) / X.std()"
   ]
  },
  {
   "cell_type": "code",
   "execution_count": 10,
   "id": "70a5f9d1-eb6a-44a6-81a9-67adbdf365e4",
   "metadata": {},
   "outputs": [],
   "source": [
    "split_index = int(len(X_scaled) * 0.6)\n",
    "X_train = X_scaled.iloc[split_index:].values\n",
    "y_train = y.iloc[split_index:].values\n",
    "X_test = X_scaled.iloc[:split_index].values\n",
    "y_test = y.iloc[:split_index].values\n",
    "\n",
    "beta = np.linalg.inv(X_train.T @ X_train) @ X_train.T @ y_train\n",
    "y_train_pred = X_train @ beta\n",
    "y_test_pred = X_test @ beta"
   ]
  },
  {
   "cell_type": "code",
   "execution_count": 12,
   "id": "4a4ca25d-5a8c-4425-b6cd-0daac97554ee",
   "metadata": {},
   "outputs": [],
   "source": [
    "r2_train = 1 - (np.sum((y_train - y_train_pred) ** 2) / np.sum((y_train - np.mean(y_train)) ** 2))\n",
    "r2_test = 1 - (np.sum((y_test - y_test_pred) ** 2) / np.sum((y_test - np.mean(y_test)) ** 2))\n",
    "\n",
    "lambda_value = 1.0 \n",
    "beta_ridge = np.linalg.inv(X_train.T @ X_train + lambda_value * np.identity(X_train.shape[1])) @ X_train.T @ y_train\n",
    "y_train_pred_ridge = X_train @ beta_ridge\n",
    "y_test_pred_ridge = X_test @ beta_ridge\n",
    "\n",
    "r2_train_ridge = 1 - (np.sum((y_train - y_train_pred_ridge) ** 2) / np.sum((y_train - np.mean(y_train)) ** 2))\n",
    "r2_test_ridge = 1 - (np.sum((y_test - y_test_pred_ridge) ** 2) / np.sum((y_test - np.mean(y_test)) ** 2))\n"
   ]
  },
  {
   "cell_type": "code",
   "execution_count": 14,
   "id": "3d34a8bc-c20e-45fd-83be-491429fd7018",
   "metadata": {},
   "outputs": [
    {
     "data": {
      "text/html": [
       "<div>\n",
       "<style scoped>\n",
       "    .dataframe tbody tr th:only-of-type {\n",
       "        vertical-align: middle;\n",
       "    }\n",
       "\n",
       "    .dataframe tbody tr th {\n",
       "        vertical-align: top;\n",
       "    }\n",
       "\n",
       "    .dataframe thead th {\n",
       "        text-align: right;\n",
       "    }\n",
       "</style>\n",
       "<table border=\"1\" class=\"dataframe\">\n",
       "  <thead>\n",
       "    <tr style=\"text-align: right;\">\n",
       "      <th></th>\n",
       "      <th>Modelo</th>\n",
       "      <th>R² Entrenamiento</th>\n",
       "      <th>R² Prueba</th>\n",
       "    </tr>\n",
       "  </thead>\n",
       "  <tbody>\n",
       "    <tr>\n",
       "      <th>0</th>\n",
       "      <td>Regresión Lineal</td>\n",
       "      <td>0.506794</td>\n",
       "      <td>-95.419316</td>\n",
       "    </tr>\n",
       "    <tr>\n",
       "      <th>1</th>\n",
       "      <td>Regresión Ridge</td>\n",
       "      <td>-1.550651</td>\n",
       "      <td>-39.028830</td>\n",
       "    </tr>\n",
       "  </tbody>\n",
       "</table>\n",
       "</div>"
      ],
      "text/plain": [
       "             Modelo  R² Entrenamiento  R² Prueba\n",
       "0  Regresión Lineal          0.506794 -95.419316\n",
       "1   Regresión Ridge         -1.550651 -39.028830"
      ]
     },
     "execution_count": 14,
     "metadata": {},
     "output_type": "execute_result"
    }
   ],
   "source": [
    "results_df = pd.DataFrame({\n",
    "    \"Modelo\": [\"Regresión Lineal\", \"Regresión Ridge\"],\n",
    "    \"R² Entrenamiento\": [r2_train, r2_train_ridge],\n",
    "    \"R² Prueba\": [r2_test, r2_test_ridge]\n",
    "})\n",
    "results_df"
   ]
  },
  {
   "cell_type": "markdown",
   "id": "14549ae2-5d9c-4b4b-af6b-56cc6e2f1bc0",
   "metadata": {},
   "source": [
    "### 1.2 Ejercicio anterior usando 'qsec' como salida."
   ]
  },
  {
   "cell_type": "code",
   "execution_count": 17,
   "id": "36acd8aa-8c32-4874-9c31-8efa9aa02377",
   "metadata": {},
   "outputs": [],
   "source": [
    "X_qsec = data_filtered.drop(columns=['qsec']) \n",
    "y_qsec = data_filtered['qsec']\n",
    "\n",
    "X_scaled_qsec = (X_qsec - X_qsec.mean()) / X_qsec.std()\n",
    "\n",
    "split_index = int(len(X_scaled_qsec) * 0.6)\n",
    "X_train_qsec = X_scaled_qsec.iloc[split_index:].values \n",
    "y_train_qsec = y_qsec.iloc[split_index:].values\n",
    "X_test_qsec = X_scaled_qsec.iloc[:split_index].values \n",
    "y_test_qsec = y_qsec.iloc[:split_index].values\n",
    "\n",
    "beta_qsec = np.linalg.inv(X_train_qsec.T @ X_train_qsec) @ X_train_qsec.T @ y_train_qsec\n",
    "y_train_pred_qsec = X_train_qsec @ beta_qsec\n",
    "y_test_pred_qsec = X_test_qsec @ beta_qsec"
   ]
  },
  {
   "cell_type": "code",
   "execution_count": 19,
   "id": "c56620d0-8686-47c7-9e6e-2295ec1c581d",
   "metadata": {},
   "outputs": [],
   "source": [
    "r2_train_qsec = 1 - (np.sum((y_train_qsec - y_train_pred_qsec) ** 2) / np.sum((y_train_qsec - np.mean(y_train_qsec)) ** 2))\n",
    "r2_test_qsec = 1 - (np.sum((y_test_qsec - y_test_pred_qsec) ** 2) / np.sum((y_test_qsec - np.mean(y_test_qsec)) ** 2))\n",
    "\n",
    "lambda_value = 1.0 \n",
    "beta_ridge_qsec = np.linalg.inv(X_train_qsec.T @ X_train_qsec + lambda_value * np.identity(X_train_qsec.shape[1])) @ X_train_qsec.T @ y_train_qsec\n",
    "\n",
    "y_train_pred_ridge_qsec = X_train_qsec @ beta_ridge_qsec\n",
    "y_test_pred_ridge_qsec = X_test_qsec @ beta_ridge_qsec\n",
    "r2_train_ridge_qsec = 1 - (np.sum((y_train_qsec - y_train_pred_ridge_qsec) ** 2) / np.sum((y_train_qsec - np.mean(y_train_qsec)) ** 2))\n",
    "r2_test_ridge_qsec = 1 - (np.sum((y_test_qsec - y_test_pred_ridge_qsec) ** 2) / np.sum((y_test_qsec - np.mean(y_test_qsec)) ** 2))\n"
   ]
  },
  {
   "cell_type": "code",
   "execution_count": 21,
   "id": "036fe220-8ba1-4372-8f4f-8ca6318e1ff7",
   "metadata": {},
   "outputs": [
    {
     "data": {
      "text/html": [
       "<div>\n",
       "<style scoped>\n",
       "    .dataframe tbody tr th:only-of-type {\n",
       "        vertical-align: middle;\n",
       "    }\n",
       "\n",
       "    .dataframe tbody tr th {\n",
       "        vertical-align: top;\n",
       "    }\n",
       "\n",
       "    .dataframe thead th {\n",
       "        text-align: right;\n",
       "    }\n",
       "</style>\n",
       "<table border=\"1\" class=\"dataframe\">\n",
       "  <thead>\n",
       "    <tr style=\"text-align: right;\">\n",
       "      <th></th>\n",
       "      <th>Modelo</th>\n",
       "      <th>R² Entrenamiento</th>\n",
       "      <th>R² Prueba</th>\n",
       "    </tr>\n",
       "  </thead>\n",
       "  <tbody>\n",
       "    <tr>\n",
       "      <th>0</th>\n",
       "      <td>Regresión Lineal</td>\n",
       "      <td>-3.520118</td>\n",
       "      <td>-1008.117654</td>\n",
       "    </tr>\n",
       "    <tr>\n",
       "      <th>1</th>\n",
       "      <td>Regresión Ridge</td>\n",
       "      <td>-26.845147</td>\n",
       "      <td>-370.741812</td>\n",
       "    </tr>\n",
       "  </tbody>\n",
       "</table>\n",
       "</div>"
      ],
      "text/plain": [
       "             Modelo  R² Entrenamiento    R² Prueba\n",
       "0  Regresión Lineal         -3.520118 -1008.117654\n",
       "1   Regresión Ridge        -26.845147  -370.741812"
      ]
     },
     "execution_count": 21,
     "metadata": {},
     "output_type": "execute_result"
    }
   ],
   "source": [
    "results_qsec_df = pd.DataFrame({\n",
    "    \"Modelo\": [\"Regresión Lineal\", \"Regresión Ridge\"],\n",
    "    \"R² Entrenamiento\": [r2_train_qsec, r2_train_ridge_qsec],\n",
    "    \"R² Prueba\": [r2_test_qsec, r2_test_ridge_qsec]\n",
    "})\n",
    "results_qsec_df"
   ]
  },
  {
   "cell_type": "markdown",
   "id": "432a2113-62da-45a8-b041-0eb0301a480c",
   "metadata": {},
   "source": [
    "### 2.1 Realiza una regresión tomando 'mpg' como salida y eliminando la columna 'model'. Crea columnas dummies para los factores 'cyl', 'gear' y 'carb'."
   ]
  },
  {
   "cell_type": "code",
   "execution_count": 24,
   "id": "f0f63d64-c29d-4ac6-96f5-70aa17285094",
   "metadata": {},
   "outputs": [],
   "source": [
    "data_dummies = pd.get_dummies(data_filtered, columns=['cyl', 'gear', 'carb'], drop_first=True)\n",
    "X_mpg_dummies = data_dummies.drop(columns=['mpg'])\n",
    "y_mpg_dummies = data_dummies['mpg']\n",
    "\n",
    "X_scaled_mpg_dummies = (X_mpg_dummies - X_mpg_dummies.mean()) / X_mpg_dummies.std()\n",
    "\n",
    "split_index = int(len(X_scaled_mpg_dummies) * 0.6)\n",
    "X_train_mpg_dummies = X_scaled_mpg_dummies.iloc[split_index:].values\n",
    "y_train_mpg_dummies = y_mpg_dummies.iloc[split_index:].values\n",
    "X_test_mpg_dummies = X_scaled_mpg_dummies.iloc[:split_index].values\n",
    "y_test_mpg_dummies = y_mpg_dummies.iloc[:split_index].values\n"
   ]
  },
  {
   "cell_type": "code",
   "execution_count": 26,
   "id": "d7cdb2a6-0daa-4893-a150-a6828f285315",
   "metadata": {},
   "outputs": [],
   "source": [
    "beta_mpg_dummies = np.linalg.inv(X_train_mpg_dummies.T @ X_train_mpg_dummies) @ X_train_mpg_dummies.T @ y_train_mpg_dummies\n",
    "\n",
    "y_train_pred_mpg_dummies = X_train_mpg_dummies @ beta_mpg_dummies\n",
    "y_test_pred_mpg_dummies = X_test_mpg_dummies @ beta_mpg_dummies\n",
    "\n",
    "r2_train_mpg_dummies = 1 - (np.sum((y_train_mpg_dummies - y_train_pred_mpg_dummies) ** 2) / np.sum((y_train_mpg_dummies - np.mean(y_train_mpg_dummies)) ** 2))\n",
    "r2_test_mpg_dummies = 1 - (np.sum((y_test_mpg_dummies - y_test_pred_mpg_dummies) ** 2) / np.sum((y_test_mpg_dummies - np.mean(y_test_mpg_dummies)) ** 2))\n"
   ]
  },
  {
   "cell_type": "code",
   "execution_count": 28,
   "id": "adc8e346-cadc-4be3-b00f-1f86b2c5ddd4",
   "metadata": {},
   "outputs": [],
   "source": [
    "lambda_value = 1.0  # Hiperparámetro de regularización\n",
    "beta_ridge_mpg_dummies = np.linalg.inv(X_train_mpg_dummies.T @ X_train_mpg_dummies + lambda_value * np.identity(X_train_mpg_dummies.shape[1])) @ X_train_mpg_dummies.T @ y_train_mpg_dummies\n",
    "\n",
    "# Predicciones con regularización\n",
    "y_train_pred_ridge_mpg_dummies = X_train_mpg_dummies @ beta_ridge_mpg_dummies\n",
    "y_test_pred_ridge_mpg_dummies = X_test_mpg_dummies @ beta_ridge_mpg_dummies\n",
    "\n",
    "# Calcular R² con regularización\n",
    "r2_train_ridge_mpg_dummies = 1 - (np.sum((y_train_mpg_dummies - y_train_pred_ridge_mpg_dummies) ** 2) / np.sum((y_train_mpg_dummies - np.mean(y_train_mpg_dummies)) ** 2))\n",
    "r2_test_ridge_mpg_dummies = 1 - (np.sum((y_test_mpg_dummies - y_test_pred_ridge_mpg_dummies) ** 2) / np.sum((y_test_mpg_dummies - np.mean(y_test_mpg_dummies)) ** 2))\n"
   ]
  },
  {
   "cell_type": "code",
   "execution_count": 30,
   "id": "f0196e60-f845-4566-adcf-0d3d019c4b9c",
   "metadata": {},
   "outputs": [
    {
     "data": {
      "text/html": [
       "<div>\n",
       "<style scoped>\n",
       "    .dataframe tbody tr th:only-of-type {\n",
       "        vertical-align: middle;\n",
       "    }\n",
       "\n",
       "    .dataframe tbody tr th {\n",
       "        vertical-align: top;\n",
       "    }\n",
       "\n",
       "    .dataframe thead th {\n",
       "        text-align: right;\n",
       "    }\n",
       "</style>\n",
       "<table border=\"1\" class=\"dataframe\">\n",
       "  <thead>\n",
       "    <tr style=\"text-align: right;\">\n",
       "      <th></th>\n",
       "      <th>Modelo</th>\n",
       "      <th>R² Entrenamiento</th>\n",
       "      <th>R² Prueba</th>\n",
       "    </tr>\n",
       "  </thead>\n",
       "  <tbody>\n",
       "    <tr>\n",
       "      <th>0</th>\n",
       "      <td>Regresión Lineal</td>\n",
       "      <td>-657.293257</td>\n",
       "      <td>-2.117893e+29</td>\n",
       "    </tr>\n",
       "    <tr>\n",
       "      <th>1</th>\n",
       "      <td>Regresión Ridge</td>\n",
       "      <td>0.615732</td>\n",
       "      <td>-4.477097e+01</td>\n",
       "    </tr>\n",
       "  </tbody>\n",
       "</table>\n",
       "</div>"
      ],
      "text/plain": [
       "             Modelo  R² Entrenamiento     R² Prueba\n",
       "0  Regresión Lineal       -657.293257 -2.117893e+29\n",
       "1   Regresión Ridge          0.615732 -4.477097e+01"
      ]
     },
     "execution_count": 30,
     "metadata": {},
     "output_type": "execute_result"
    }
   ],
   "source": [
    "results_mpg_dummies_df = pd.DataFrame({\n",
    "    \"Modelo\": [\"Regresión Lineal\", \"Regresión Ridge\"],\n",
    "    \"R² Entrenamiento\": [r2_train_mpg_dummies, r2_train_ridge_mpg_dummies],\n",
    "    \"R² Prueba\": [r2_test_mpg_dummies, r2_test_ridge_mpg_dummies]\n",
    "})\n",
    "results_mpg_dummies_df"
   ]
  },
  {
   "cell_type": "markdown",
   "id": "8eead7ed-fa8b-4cdd-99b7-ab9042e1e7ed",
   "metadata": {},
   "source": [
    "### 2.2 Repite el ejercicio anterior usando 'qsec' como salida."
   ]
  },
  {
   "cell_type": "code",
   "execution_count": 33,
   "id": "04b919a6-5086-4f28-80b4-b324e798149c",
   "metadata": {},
   "outputs": [],
   "source": [
    "data_filtered = data.drop(columns=['model'])\n",
    "\n",
    "data_dummies = pd.get_dummies(data_filtered, columns=['cyl', 'gear', 'carb'], drop_first=True)\n",
    "\n",
    "X_qsec_dummies = data_dummies.drop(columns=['qsec']) \n",
    "y_qsec_dummies = data_dummies['qsec']\n",
    "\n",
    "X_scaled_qsec_dummies = (X_qsec_dummies - X_qsec_dummies.mean()) / X_qsec_dummies.std()\n",
    "\n",
    "split_index = int(len(X_scaled_qsec_dummies) * 0.6)\n",
    "X_train_qsec_dummies = X_scaled_qsec_dummies.iloc[split_index:].values\n",
    "y_train_qsec_dummies = y_qsec_dummies.iloc[split_index:].values\n",
    "X_test_qsec_dummies = X_scaled_qsec_dummies.iloc[:split_index].values\n",
    "y_test_qsec_dummies = y_qsec_dummies.iloc[:split_index].values"
   ]
  },
  {
   "cell_type": "code",
   "execution_count": 35,
   "id": "dabf0092-e896-4ef1-81a9-e84b7186cd56",
   "metadata": {},
   "outputs": [],
   "source": [
    "beta_qsec_dummies = np.linalg.inv(X_train_qsec_dummies.T @ X_train_qsec_dummies) @ X_train_qsec_dummies.T @ y_train_qsec_dummies\n",
    "\n",
    "y_train_pred_qsec_dummies = X_train_qsec_dummies @ beta_qsec_dummies\n",
    "y_test_pred_qsec_dummies = X_test_qsec_dummies @ beta_qsec_dummies\n",
    "\n",
    "r2_train_qsec_dummies = 1 - (np.sum((y_train_qsec_dummies - y_train_pred_qsec_dummies) ** 2) / np.sum((y_train_qsec_dummies - np.mean(y_train_qsec_dummies)) ** 2))\n",
    "r2_test_qsec_dummies = 1 - (np.sum((y_test_qsec_dummies - y_test_pred_qsec_dummies) ** 2) / np.sum((y_test_qsec_dummies - np.mean(y_test_qsec_dummies)) ** 2))"
   ]
  },
  {
   "cell_type": "code",
   "execution_count": 37,
   "id": "8ca48b08-0b1d-4936-a964-5237d47d5ad1",
   "metadata": {},
   "outputs": [],
   "source": [
    "lambda_value = 1.0 \n",
    "beta_ridge_qsec_dummies = np.linalg.inv(X_train_qsec_dummies.T @ X_train_qsec_dummies + lambda_value * np.identity(X_train_qsec_dummies.shape[1])) @ X_train_qsec_dummies.T @ y_train_qsec_dummies\n",
    "\n",
    "y_train_pred_ridge_qsec_dummies = X_train_qsec_dummies @ beta_ridge_qsec_dummies\n",
    "y_test_pred_ridge_qsec_dummies = X_test_qsec_dummies @ beta_ridge_qsec_dummies\n",
    "\n",
    "r2_train_ridge_qsec_dummies = 1 - (np.sum((y_train_qsec_dummies - y_train_pred_ridge_qsec_dummies) ** 2) / np.sum((y_train_qsec_dummies - np.mean(y_train_qsec_dummies)) ** 2))\n",
    "r2_test_ridge_qsec_dummies = 1 - (np.sum((y_test_qsec_dummies - y_test_pred_ridge_qsec_dummies) ** 2) / np.sum((y_test_qsec_dummies - np.mean(y_test_qsec_dummies)) ** 2))\n"
   ]
  },
  {
   "cell_type": "code",
   "execution_count": 39,
   "id": "e59df72e-b829-46b8-b88d-c2b5d544e750",
   "metadata": {},
   "outputs": [
    {
     "data": {
      "text/html": [
       "<div>\n",
       "<style scoped>\n",
       "    .dataframe tbody tr th:only-of-type {\n",
       "        vertical-align: middle;\n",
       "    }\n",
       "\n",
       "    .dataframe tbody tr th {\n",
       "        vertical-align: top;\n",
       "    }\n",
       "\n",
       "    .dataframe thead th {\n",
       "        text-align: right;\n",
       "    }\n",
       "</style>\n",
       "<table border=\"1\" class=\"dataframe\">\n",
       "  <thead>\n",
       "    <tr style=\"text-align: right;\">\n",
       "      <th></th>\n",
       "      <th>Modelo</th>\n",
       "      <th>R² Entrenamiento</th>\n",
       "      <th>R² Prueba</th>\n",
       "    </tr>\n",
       "  </thead>\n",
       "  <tbody>\n",
       "    <tr>\n",
       "      <th>0</th>\n",
       "      <td>Regresión Lineal</td>\n",
       "      <td>-5392.592883</td>\n",
       "      <td>-2.319589e+29</td>\n",
       "    </tr>\n",
       "    <tr>\n",
       "      <th>1</th>\n",
       "      <td>Regresión Ridge</td>\n",
       "      <td>-2.203244</td>\n",
       "      <td>-4.795190e+02</td>\n",
       "    </tr>\n",
       "  </tbody>\n",
       "</table>\n",
       "</div>"
      ],
      "text/plain": [
       "             Modelo  R² Entrenamiento     R² Prueba\n",
       "0  Regresión Lineal      -5392.592883 -2.319589e+29\n",
       "1   Regresión Ridge         -2.203244 -4.795190e+02"
      ]
     },
     "execution_count": 39,
     "metadata": {},
     "output_type": "execute_result"
    }
   ],
   "source": [
    "results_qsec_dummies_df = pd.DataFrame({\n",
    "    \"Modelo\": [\"Regresión Lineal\", \"Regresión Ridge\"],\n",
    "    \"R² Entrenamiento\": [r2_train_qsec_dummies, r2_train_ridge_qsec_dummies],\n",
    "    \"R² Prueba\": [r2_test_qsec_dummies, r2_test_ridge_qsec_dummies]\n",
    "})\n",
    "results_qsec_dummies_df"
   ]
  },
  {
   "cell_type": "markdown",
   "id": "070a0794-90bd-413a-a6e0-3d11207fd66c",
   "metadata": {},
   "source": [
    "### 3.1 Compara los R2 de los ejercicios 1.1 & 2.1."
   ]
  },
  {
   "cell_type": "code",
   "execution_count": 54,
   "id": "c8e9623b-a803-487f-8924-dafc8d90e223",
   "metadata": {},
   "outputs": [
    {
     "data": {
      "text/html": [
       "<div>\n",
       "<style scoped>\n",
       "    .dataframe tbody tr th:only-of-type {\n",
       "        vertical-align: middle;\n",
       "    }\n",
       "\n",
       "    .dataframe tbody tr th {\n",
       "        vertical-align: top;\n",
       "    }\n",
       "\n",
       "    .dataframe thead th {\n",
       "        text-align: right;\n",
       "    }\n",
       "</style>\n",
       "<table border=\"1\" class=\"dataframe\">\n",
       "  <thead>\n",
       "    <tr style=\"text-align: right;\">\n",
       "      <th></th>\n",
       "      <th>Ejercicio</th>\n",
       "      <th>R² Entrenamiento - Lineal</th>\n",
       "      <th>R² Prueba - Lineal</th>\n",
       "      <th>R² Entrenamiento - Ridge</th>\n",
       "      <th>R² Prueba - Ridge</th>\n",
       "    </tr>\n",
       "  </thead>\n",
       "  <tbody>\n",
       "    <tr>\n",
       "      <th>0</th>\n",
       "      <td>1.1 (mpg sin dummies)</td>\n",
       "      <td>0.506794</td>\n",
       "      <td>-9.541932e+01</td>\n",
       "      <td>-1.550651</td>\n",
       "      <td>-39.028830</td>\n",
       "    </tr>\n",
       "    <tr>\n",
       "      <th>1</th>\n",
       "      <td>2.1 (mpg con dummies)</td>\n",
       "      <td>-657.293257</td>\n",
       "      <td>-2.117893e+29</td>\n",
       "      <td>0.615732</td>\n",
       "      <td>-44.770972</td>\n",
       "    </tr>\n",
       "  </tbody>\n",
       "</table>\n",
       "</div>"
      ],
      "text/plain": [
       "               Ejercicio  R² Entrenamiento - Lineal  R² Prueba - Lineal  \\\n",
       "0  1.1 (mpg sin dummies)                   0.506794       -9.541932e+01   \n",
       "1  2.1 (mpg con dummies)                -657.293257       -2.117893e+29   \n",
       "\n",
       "   R² Entrenamiento - Ridge  R² Prueba - Ridge  \n",
       "0                 -1.550651         -39.028830  \n",
       "1                  0.615732         -44.770972  "
      ]
     },
     "execution_count": 54,
     "metadata": {},
     "output_type": "execute_result"
    }
   ],
   "source": [
    "data_filtered = data.drop(columns=['model'])\n",
    "X_mpg = data_filtered.drop(columns=['mpg'])\n",
    "y_mpg = data_filtered['mpg']\n",
    "\n",
    "X_scaled_mpg = (X_mpg - X_mpg.mean()) / X_mpg.std()\n",
    "\n",
    "split_index = int(len(X_scaled_mpg) * 0.6)\n",
    "X_train_mpg = X_scaled_mpg.iloc[split_index:].values\n",
    "y_train_mpg = y_mpg.iloc[split_index:].values\n",
    "X_test_mpg = X_scaled_mpg.iloc[:split_index].values\n",
    "y_test_mpg = y_mpg.iloc[:split_index].values\n",
    "\n",
    "beta_mpg = np.linalg.inv(X_train_mpg.T @ X_train_mpg) @ X_train_mpg.T @ y_train_mpg\n",
    "\n",
    "y_train_pred_mpg = X_train_mpg @ beta_mpg\n",
    "y_test_pred_mpg = X_test_mpg @ beta_mpg\n",
    "\n",
    "r2_train_mpg = 1 - (np.sum((y_train_mpg - y_train_pred_mpg) ** 2) / np.sum((y_train_mpg - np.mean(y_train_mpg)) ** 2))\n",
    "r2_test_mpg = 1 - (np.sum((y_test_mpg - y_test_pred_mpg) ** 2) / np.sum((y_test_mpg - np.mean(y_test_mpg)) ** 2))\n",
    "\n",
    "lambda_value = 1.0  \n",
    "beta_ridge_mpg = np.linalg.inv(X_train_mpg.T @ X_train_mpg + lambda_value * np.identity(X_train_mpg.shape[1])) @ X_train_mpg.T @ y_train_mpg\n",
    "\n",
    "y_train_pred_ridge_mpg = X_train_mpg @ beta_ridge_mpg\n",
    "y_test_pred_ridge_mpg = X_test_mpg @ beta_ridge_mpg\n",
    "\n",
    "r2_train_ridge_mpg = 1 - (np.sum((y_train_mpg - y_train_pred_ridge_mpg) ** 2) / np.sum((y_train_mpg - np.mean(y_train_mpg)) ** 2))\n",
    "r2_test_ridge_mpg = 1 - (np.sum((y_test_mpg - y_test_pred_ridge_mpg) ** 2) / np.sum((y_test_mpg - np.mean(y_test_mpg)) ** 2))\n",
    "\n",
    "data_dummies = pd.get_dummies(data_filtered, columns=['cyl', 'gear', 'carb'], drop_first=True)\n",
    "\n",
    "X_mpg_dummies = data_dummies.drop(columns=['mpg'])\n",
    "y_mpg_dummies = data_dummies['mpg']\n",
    "\n",
    "X_scaled_mpg_dummies = (X_mpg_dummies - X_mpg_dummies.mean()) / X_mpg_dummies.std()\n",
    "\n",
    "X_train_mpg_dummies = X_scaled_mpg_dummies.iloc[split_index:].values\n",
    "y_train_mpg_dummies = y_mpg_dummies.iloc[split_index:].values\n",
    "X_test_mpg_dummies = X_scaled_mpg_dummies.iloc[:split_index].values\n",
    "y_test_mpg_dummies = y_mpg_dummies.iloc[:split_index].values\n",
    "\n",
    "beta_mpg_dummies = np.linalg.inv(X_train_mpg_dummies.T @ X_train_mpg_dummies) @ X_train_mpg_dummies.T @ y_train_mpg_dummies\n",
    "\n",
    "y_train_pred_mpg_dummies = X_train_mpg_dummies @ beta_mpg_dummies\n",
    "y_test_pred_mpg_dummies = X_test_mpg_dummies @ beta_mpg_dummies\n",
    "\n",
    "r2_train_mpg_dummies = 1 - (np.sum((y_train_mpg_dummies - y_train_pred_mpg_dummies) ** 2) / np.sum((y_train_mpg_dummies - np.mean(y_train_mpg_dummies)) ** 2))\n",
    "r2_test_mpg_dummies = 1 - (np.sum((y_test_mpg_dummies - y_test_pred_mpg_dummies) ** 2) / np.sum((y_test_mpg_dummies - np.mean(y_test_mpg_dummies)) ** 2))\n",
    "\n",
    "beta_ridge_mpg_dummies = np.linalg.inv(X_train_mpg_dummies.T @ X_train_mpg_dummies + lambda_value * np.identity(X_train_mpg_dummies.shape[1])) @ X_train_mpg_dummies.T @ y_train_mpg_dummies\n",
    "\n",
    "y_train_pred_ridge_mpg_dummies = X_train_mpg_dummies @ beta_ridge_mpg_dummies\n",
    "y_test_pred_ridge_mpg_dummies = X_test_mpg_dummies @ beta_ridge_mpg_dummies\n",
    "\n",
    "r2_train_ridge_mpg_dummies = 1 - (np.sum((y_train_mpg_dummies - y_train_pred_ridge_mpg_dummies) ** 2) / np.sum((y_train_mpg_dummies - np.mean(y_train_mpg_dummies)) ** 2))\n",
    "r2_test_ridge_mpg_dummies = 1 - (np.sum((y_test_mpg_dummies - y_test_pred_ridge_mpg_dummies) ** 2) / np.sum((y_test_mpg_dummies - np.mean(y_test_mpg_dummies)) ** 2))\n",
    "\n",
    "comparison_mpg_df = pd.DataFrame({\n",
    "    \"Ejercicio\": [\"1.1 (mpg sin dummies)\", \"2.1 (mpg con dummies)\"],\n",
    "    \"R² Entrenamiento - Lineal\": [r2_train_mpg, r2_train_mpg_dummies],\n",
    "    \"R² Prueba - Lineal\": [r2_test_mpg, r2_test_mpg_dummies],\n",
    "    \"R² Entrenamiento - Ridge\": [r2_train_ridge_mpg, r2_train_ridge_mpg_dummies],\n",
    "    \"R² Prueba - Ridge\": [r2_test_ridge_mpg, r2_test_ridge_mpg_dummies]\n",
    "})\n",
    "comparison_mpg_df"
   ]
  },
  {
   "cell_type": "markdown",
   "id": "4cb9b504-41bc-4a34-bc4e-0ecfaf60562c",
   "metadata": {},
   "source": [
    "El uso de variables dummies en la regresión de mpg empeoró mucho el modelo, generando valores de R^2 extremadamente negativos en la regresión lineal, o sea inestabilidad numérica y sobreajuste, mientras que la regularización mejoró en entrenamiento pero siguió teniendo un mal desempeño en prueba"
   ]
  },
  {
   "cell_type": "markdown",
   "id": "29e725af-6949-4733-9ba9-05ac66fef874",
   "metadata": {},
   "source": [
    "### 3.2 Compara los R2 de los ejercicios 1.2 & 2.2."
   ]
  },
  {
   "cell_type": "code",
   "execution_count": 59,
   "id": "b2e7b953-62fd-4af1-bfcd-ad9bf6364e21",
   "metadata": {},
   "outputs": [
    {
     "data": {
      "text/html": [
       "<div>\n",
       "<style scoped>\n",
       "    .dataframe tbody tr th:only-of-type {\n",
       "        vertical-align: middle;\n",
       "    }\n",
       "\n",
       "    .dataframe tbody tr th {\n",
       "        vertical-align: top;\n",
       "    }\n",
       "\n",
       "    .dataframe thead th {\n",
       "        text-align: right;\n",
       "    }\n",
       "</style>\n",
       "<table border=\"1\" class=\"dataframe\">\n",
       "  <thead>\n",
       "    <tr style=\"text-align: right;\">\n",
       "      <th></th>\n",
       "      <th>Ejercicio</th>\n",
       "      <th>R² Entrenamiento - Lineal</th>\n",
       "      <th>R² Prueba - Lineal</th>\n",
       "      <th>R² Entrenamiento - Ridge</th>\n",
       "      <th>R² Prueba - Ridge</th>\n",
       "    </tr>\n",
       "  </thead>\n",
       "  <tbody>\n",
       "    <tr>\n",
       "      <th>0</th>\n",
       "      <td>1.2 (qsec sin dummies)</td>\n",
       "      <td>-3.520118</td>\n",
       "      <td>-1.008118e+03</td>\n",
       "      <td>-26.845147</td>\n",
       "      <td>-370.741812</td>\n",
       "    </tr>\n",
       "    <tr>\n",
       "      <th>1</th>\n",
       "      <td>2.2 (qsec con dummies)</td>\n",
       "      <td>-5392.592883</td>\n",
       "      <td>-2.319589e+29</td>\n",
       "      <td>-2.203244</td>\n",
       "      <td>-479.519048</td>\n",
       "    </tr>\n",
       "  </tbody>\n",
       "</table>\n",
       "</div>"
      ],
      "text/plain": [
       "                Ejercicio  R² Entrenamiento - Lineal  R² Prueba - Lineal  \\\n",
       "0  1.2 (qsec sin dummies)                  -3.520118       -1.008118e+03   \n",
       "1  2.2 (qsec con dummies)               -5392.592883       -2.319589e+29   \n",
       "\n",
       "   R² Entrenamiento - Ridge  R² Prueba - Ridge  \n",
       "0                -26.845147        -370.741812  \n",
       "1                 -2.203244        -479.519048  "
      ]
     },
     "execution_count": 59,
     "metadata": {},
     "output_type": "execute_result"
    }
   ],
   "source": [
    "X_qsec = data_filtered.drop(columns=['qsec'])\n",
    "y_qsec = data_filtered['qsec']\n",
    "\n",
    "X_scaled_qsec = (X_qsec - X_qsec.mean()) / X_qsec.std()\n",
    "\n",
    "X_train_qsec = X_scaled_qsec.iloc[split_index:].values\n",
    "y_train_qsec = y_qsec.iloc[split_index:].values\n",
    "X_test_qsec = X_scaled_qsec.iloc[:split_index].values\n",
    "y_test_qsec = y_qsec.iloc[:split_index].values\n",
    "\n",
    "beta_qsec = np.linalg.inv(X_train_qsec.T @ X_train_qsec) @ X_train_qsec.T @ y_train_qsec\n",
    "\n",
    "y_train_pred_qsec = X_train_qsec @ beta_qsec\n",
    "y_test_pred_qsec = X_test_qsec @ beta_qsec\n",
    "\n",
    "r2_train_qsec = 1 - (np.sum((y_train_qsec - y_train_pred_qsec) ** 2) / np.sum((y_train_qsec - np.mean(y_train_qsec)) ** 2))\n",
    "r2_test_qsec = 1 - (np.sum((y_test_qsec - y_test_pred_qsec) ** 2) / np.sum((y_test_qsec - np.mean(y_test_qsec)) ** 2))\n",
    "\n",
    "beta_ridge_qsec = np.linalg.inv(X_train_qsec.T @ X_train_qsec + lambda_value * np.identity(X_train_qsec.shape[1])) @ X_train_qsec.T @ y_train_qsec\n",
    "\n",
    "y_train_pred_ridge_qsec = X_train_qsec @ beta_ridge_qsec\n",
    "y_test_pred_ridge_qsec = X_test_qsec @ beta_ridge_qsec\n",
    "\n",
    "r2_train_ridge_qsec = 1 - (np.sum((y_train_qsec - y_train_pred_ridge_qsec) ** 2) / np.sum((y_train_qsec - np.mean(y_train_qsec)) ** 2))\n",
    "r2_test_ridge_qsec = 1 - (np.sum((y_test_qsec - y_test_pred_ridge_qsec) ** 2) / np.sum((y_test_qsec - np.mean(y_test_qsec)) ** 2))\n",
    "\n",
    "# Ejercicio 2.2 \n",
    "X_qsec_dummies = data_dummies.drop(columns=['qsec'])\n",
    "y_qsec_dummies = data_dummies['qsec']\n",
    "\n",
    "X_scaled_qsec_dummies = (X_qsec_dummies - X_qsec_dummies.mean()) / X_qsec_dummies.std()\n",
    "\n",
    "X_train_qsec_dummies = X_scaled_qsec_dummies.iloc[split_index:].values\n",
    "y_train_qsec_dummies = y_qsec_dummies.iloc[split_index:].values\n",
    "X_test_qsec_dummies = X_scaled_qsec_dummies.iloc[:split_index].values\n",
    "y_test_qsec_dummies = y_qsec_dummies.iloc[:split_index].values\n",
    "\n",
    "beta_qsec_dummies = np.linalg.inv(X_train_qsec_dummies.T @ X_train_qsec_dummies) @ X_train_qsec_dummies.T @ y_train_qsec_dummies\n",
    "\n",
    "y_train_pred_qsec_dummies = X_train_qsec_dummies @ beta_qsec_dummies\n",
    "y_test_pred_qsec_dummies = X_test_qsec_dummies @ beta_qsec_dummies\n",
    "\n",
    "r2_train_qsec_dummies = 1 - (np.sum((y_train_qsec_dummies - y_train_pred_qsec_dummies) ** 2) / np.sum((y_train_qsec_dummies - np.mean(y_train_qsec_dummies)) ** 2))\n",
    "r2_test_qsec_dummies = 1 - (np.sum((y_test_qsec_dummies - y_test_pred_qsec_dummies) ** 2) / np.sum((y_test_qsec_dummies - np.mean(y_test_qsec_dummies)) ** 2))\n",
    "\n",
    "beta_ridge_qsec_dummies = np.linalg.inv(X_train_qsec_dummies.T @ X_train_qsec_dummies + lambda_value * np.identity(X_train_qsec_dummies.shape[1])) @ X_train_qsec_dummies.T @ y_train_qsec_dummies\n",
    "\n",
    "y_train_pred_ridge_qsec_dummies = X_train_qsec_dummies @ beta_ridge_qsec_dummies\n",
    "y_test_pred_ridge_qsec_dummies = X_test_qsec_dummies @ beta_ridge_qsec_dummies\n",
    "\n",
    "r2_train_ridge_qsec_dummies = 1 - (np.sum((y_train_qsec_dummies - y_train_pred_ridge_qsec_dummies) ** 2) / np.sum((y_train_qsec_dummies - np.mean(y_train_qsec_dummies)) ** 2))\n",
    "r2_test_ridge_qsec_dummies = 1 - (np.sum((y_test_qsec_dummies - y_test_pred_ridge_qsec_dummies) ** 2) / np.sum((y_test_qsec_dummies - np.mean(y_test_qsec_dummies)) ** 2))\n",
    "\n",
    "# Comparación de resultados para 3.2 \n",
    "comparison_qsec_df = pd.DataFrame({\n",
    "    \"Ejercicio\": [\"1.2 (qsec sin dummies)\", \"2.2 (qsec con dummies)\"],\n",
    "    \"R² Entrenamiento - Lineal\": [r2_train_qsec, r2_train_qsec_dummies],\n",
    "    \"R² Prueba - Lineal\": [r2_test_qsec, r2_test_qsec_dummies],\n",
    "    \"R² Entrenamiento - Ridge\": [r2_train_ridge_qsec, r2_train_ridge_qsec_dummies],\n",
    "    \"R² Prueba - Ridge\": [r2_test_ridge_qsec, r2_test_ridge_qsec_dummies]\n",
    "})\n",
    "comparison_qsec_df"
   ]
  },
  {
   "cell_type": "markdown",
   "id": "9bc1dc13-f769-4f93-bccd-c055e4dbf166",
   "metadata": {},
   "source": [
    "El uso de variables dummies en la regresión de qsec empeoró el modelo, con valores de R^2 extremadamente negativos en la regresión lineal y Ridge, lo que significa que el modelo no logra capturar la relación entre las variables."
   ]
  },
  {
   "cell_type": "code",
   "execution_count": null,
   "id": "b323c27f-a5c0-40f2-ad14-62c005ed1ef8",
   "metadata": {},
   "outputs": [],
   "source": []
  }
 ],
 "metadata": {
  "kernelspec": {
   "display_name": "Python 3 (ipykernel)",
   "language": "python",
   "name": "python3"
  },
  "language_info": {
   "codemirror_mode": {
    "name": "ipython",
    "version": 3
   },
   "file_extension": ".py",
   "mimetype": "text/x-python",
   "name": "python",
   "nbconvert_exporter": "python",
   "pygments_lexer": "ipython3",
   "version": "3.12.4"
  }
 },
 "nbformat": 4,
 "nbformat_minor": 5
}
