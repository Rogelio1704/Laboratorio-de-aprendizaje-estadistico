{
 "cells": [
  {
   "cell_type": "code",
   "execution_count": 36,
   "id": "f0b9b898-c91a-40dc-af75-3258540a790b",
   "metadata": {},
   "outputs": [
    {
     "name": "stdout",
     "output_type": "stream",
     "text": [
      "                            OLS Regression Results                            \n",
      "==============================================================================\n",
      "Dep. Variable:                    mpg   R-squared:                       0.602\n",
      "Model:                            OLS   Adj. R-squared:                  0.589\n",
      "Method:                 Least Squares   F-statistic:                     45.46\n",
      "Date:                Thu, 10 Apr 2025   Prob (F-statistic):           1.79e-07\n",
      "Time:                        17:57:45   Log-Likelihood:                -87.619\n",
      "No. Observations:                  32   AIC:                             179.2\n",
      "Df Residuals:                      30   BIC:                             182.2\n",
      "Df Model:                           1                                         \n",
      "Covariance Type:            nonrobust                                         \n",
      "==============================================================================\n",
      "                 coef    std err          t      P>|t|      [0.025      0.975]\n",
      "------------------------------------------------------------------------------\n",
      "const         30.0989      1.634     18.421      0.000      26.762      33.436\n",
      "hp            -0.0682      0.010     -6.742      0.000      -0.089      -0.048\n",
      "==============================================================================\n",
      "Omnibus:                        3.692   Durbin-Watson:                   1.134\n",
      "Prob(Omnibus):                  0.158   Jarque-Bera (JB):                2.984\n",
      "Skew:                           0.747   Prob(JB):                        0.225\n",
      "Kurtosis:                       2.935   Cond. No.                         386.\n",
      "==============================================================================\n",
      "\n",
      "Notes:\n",
      "[1] Standard Errors assume that the covariance matrix of the errors is correctly specified.\n"
     ]
    }
   ],
   "source": [
    "import pandas as pd\n",
    "import statsmodels.api as sm\n",
    "\n",
    "df = pd.read_excel(\"Motor Trend Car Road Tests.xlsx\")\n",
    "\n",
    "X = df[\"hp\"] \n",
    "y = df[\"mpg\"]  \n",
    "\n",
    "X_const = sm.add_constant(X)\n",
    "\n",
    "model = sm.OLS(y, X_const).fit()\n",
    "\n",
    "print(model.summary())\n"
   ]
  },
  {
   "cell_type": "code",
   "execution_count": 38,
   "id": "0de4b3bf-c60a-4866-a504-25e803c182ae",
   "metadata": {},
   "outputs": [
    {
     "name": "stdout",
     "output_type": "stream",
     "text": [
      "Estimaciones bootstrap (1000 muestras):\n",
      "Beta_0 (intercepto): media = 30.4401, desviación estándar = 2.0873\n",
      "Beta_1 (hp)        : media = -0.0713, desviación estándar = 0.0141\n"
     ]
    }
   ],
   "source": [
    "import numpy as np\n",
    "\n",
    "df = pd.read_excel(\"Motor Trend Car Road Tests.xlsx\")\n",
    "\n",
    "beta_0_list = []\n",
    "beta_1_list = []\n",
    "\n",
    "n_iterations = 1000\n",
    "n = len(df)\n",
    "\n",
    "# Bootstrap: generar 1000 regresiones\n",
    "for _ in range(n_iterations):\n",
    "    sample = df.sample(n=n, replace=True)\n",
    "    X_sample = sm.add_constant(sample['hp'])\n",
    "    y_sample = sample['mpg']\n",
    "    model = sm.OLS(y_sample, X_sample).fit()\n",
    "\n",
    "    beta_0_list.append(model.params['const'])\n",
    "    beta_1_list.append(model.params['hp'])\n",
    "\n",
    "# Convertir a arrays\n",
    "beta_0_array = np.array(beta_0_list)\n",
    "beta_1_array = np.array(beta_1_list)\n",
    "\n",
    "print(\"Estimaciones bootstrap (1000 muestras):\")\n",
    "print(f\"Beta_0 (intercepto): media = {np.mean(beta_0_array):.4f}, desviación estándar = {np.std(beta_0_array, ddof=1):.4f}\")\n",
    "print(f\"Beta_1 (hp)        : media = {np.mean(beta_1_array):.4f}, desviación estándar = {np.std(beta_1_array, ddof=1):.4f}\")\n"
   ]
  },
  {
   "cell_type": "markdown",
   "id": "d9cda6f1-24db-41f4-ac2a-f04544811ab5",
   "metadata": {},
   "source": [
    "## BAGGING CON DATASET 'ADVERTISING'"
   ]
  },
  {
   "cell_type": "code",
   "execution_count": 40,
   "id": "2b6a1b8d-e392-4b71-b0ae-a6571840d5ad",
   "metadata": {},
   "outputs": [
    {
     "data": {
      "text/plain": [
       "array([21.72468458, 11.02010843,  9.76168184, 17.69782662, 12.6646516 ,\n",
       "        9.38215037, 11.20012259, 12.271503  ,  7.38716472, 11.36454356,\n",
       "        8.60682862, 16.75024143,  9.27591394,  9.85305112, 18.74749819,\n",
       "       21.82765969, 11.7425369 , 25.06746228, 10.42640861, 14.04587975,\n",
       "       18.25115651, 12.8928968 ,  7.4507006 , 15.68654146,  9.31936096,\n",
       "       13.05780142, 14.81388397, 16.03212945, 19.17710498,  9.72859576,\n",
       "       21.88796919, 11.52551512,  8.74912833, 17.61210805,  8.98235897,\n",
       "       13.788249  , 24.45121606, 14.04413885,  9.80597843, 21.0653754 ,\n",
       "       16.04367859, 17.38596355, 20.99551581, 12.90187175,  8.79981805,\n",
       "       14.94845119,  9.64674149, 22.52024789, 15.52416987,  9.13520456,\n",
       "       11.47357413, 10.23496345, 21.51704857, 20.70945557, 20.18097253,\n",
       "       22.56461831,  8.16915732, 12.7822434 , 23.08483921, 17.92060277,\n",
       "        7.94273615, 24.76339414, 15.7212703 , 13.03570207, 16.58416318,\n",
       "        9.38382272,  9.49988987, 12.10188613, 18.63527942, 21.9119174 ,\n",
       "       17.88240755, 10.97478496,  9.7270122 , 10.1906911 , 16.91141671,\n",
       "        9.40281876,  7.34228403, 13.66632881,  8.62357477, 10.21500153,\n",
       "       11.41457038, 12.74719818, 10.51302113, 13.05008543, 21.58567912,\n",
       "       14.90139133, 11.54637184, 15.09312897, 11.49582215, 16.16500231,\n",
       "       10.33853143,  7.11449603, 19.75763851, 22.63209192, 10.99640687,\n",
       "       16.37337684, 11.52619592, 14.9940809 , 26.32159029, 16.71449903,\n",
       "       12.37719515, 25.82366663, 15.46096883, 14.27007652, 20.35689134,\n",
       "       17.81667866,  7.83128737,  8.52202148,  6.84112499, 19.18597135,\n",
       "       13.51572102, 21.76716449, 13.45284146, 15.79915914, 13.94311874,\n",
       "       12.22019378, 12.00928476,  8.41044434, 15.38969468,  8.13801862,\n",
       "       14.32524594,  8.10368256, 11.85855026, 14.75101624, 20.2634141 ,\n",
       "        9.9230492 ,  8.80801723,  8.47381921, 22.9983748 ,  8.8468003 ,\n",
       "        8.89518622, 13.09955867,  8.71114994, 19.71322495, 10.36655408,\n",
       "       12.15192143, 10.19785192, 21.40835067,  9.87963518, 19.71916078,\n",
       "       10.23458641, 19.0504647 , 19.5917674 ,  9.49441013, 10.51783076,\n",
       "        9.9650643 , 13.46512747, 25.19324995, 10.95447283,  9.94327948,\n",
       "       16.80359965, 10.27454503, 15.9707236 , 18.39916493, 15.08040587,\n",
       "        7.67723345, 14.48880285,  9.95640948,  8.94792315, 12.42555667,\n",
       "       13.92387782, 12.92328085, 14.50745674, 17.17591617, 11.44803906,\n",
       "       12.59344923,  9.57496603, 12.13443079, 17.10147805, 15.56426033,\n",
       "        8.83523863, 14.20623075,  8.51194468, 11.57072911, 12.06462895,\n",
       "       27.3463117 , 19.96804991, 11.70843047, 13.06055494, 12.05669987,\n",
       "       10.44171854, 12.49565519,  8.25288454, 26.86549284, 17.87451825,\n",
       "       21.38326983,  9.85251309, 16.91701091, 16.56944278,  7.82378082,\n",
       "       11.1422647 ,  9.66613631,  7.06302298, 18.33080097, 16.24125629,\n",
       "        7.88348044,  9.40320114, 12.25385115, 26.17131611, 13.58877703])"
      ]
     },
     "execution_count": 40,
     "metadata": {},
     "output_type": "execute_result"
    }
   ],
   "source": [
    "import itertools\n",
    "df = pd.read_csv(\"Advertising.csv\")\n",
    "target = 'sales'\n",
    "\n",
    "# Crear variables\n",
    "df[\"TV_radio\"] = df[\"TV\"] * df[\"radio\"]\n",
    "df[\"TV_newspaper\"] = df[\"TV\"] * df[\"newspaper\"]\n",
    "df[\"radio_newspaper\"] = df[\"radio\"] * df[\"newspaper\"]\n",
    "\n",
    "# Lista de todas las posibles variables\n",
    "all_features = [\"TV\", \"radio\", \"newspaper\", \"TV_radio\", \"TV_newspaper\", \"radio_newspaper\"]\n",
    "\n",
    "# Listas para guardar los modelos y sus variables\n",
    "models = []\n",
    "features_list = []\n",
    "\n",
    "# Entrenamiento de 1000 modelos con bootstrap y 4 variables aleatorias\n",
    "for _ in range(1000):\n",
    "    sample = df.sample(n=len(df), replace=True)\n",
    "    selected_features = np.random.choice(all_features, size=4, replace=False).tolist()\n",
    "    X_sample = sm.add_constant(sample[selected_features])\n",
    "    y_sample = sample[target]\n",
    "    model = sm.OLS(y_sample, X_sample).fit()\n",
    "    models.append(model)\n",
    "    features_list.append(selected_features)\n",
    "\n",
    "# Función de predicción \n",
    "def predict_bagging_interactions(x_input):\n",
    "    # Crear interacciones para el input\n",
    "    x_input = x_input.copy()\n",
    "    x_input[\"TV_radio\"] = x_input[\"TV\"] * x_input[\"radio\"]\n",
    "    x_input[\"TV_newspaper\"] = x_input[\"TV\"] * x_input[\"newspaper\"]\n",
    "    x_input[\"radio_newspaper\"] = x_input[\"radio\"] * x_input[\"newspaper\"]\n",
    "    \n",
    "    predictions = []\n",
    "    for model, features in zip(models, features_list):\n",
    "        x_filtered = x_input[features]\n",
    "        x_with_const = sm.add_constant(x_filtered, has_constant='add')\n",
    "        pred = model.predict(x_with_const)\n",
    "        predictions.append(pred)\n",
    "    return np.mean(predictions, axis=0)\n",
    "y_pred_final = predict_bagging_interactions(df)\n",
    "\n",
    "y_pred_final\n"
   ]
  },
  {
   "cell_type": "code",
   "execution_count": 41,
   "id": "58f4638c-ac70-4a74-aceb-fcf03cf79199",
   "metadata": {},
   "outputs": [
    {
     "name": "stdout",
     "output_type": "stream",
     "text": [
      "R² del promedio de modelos (bagging): 0.9613\n"
     ]
    }
   ],
   "source": [
    "from sklearn.metrics import r2_score\n",
    "\n",
    "y_real = df[\"sales\"]\n",
    "r2 = r2_score(y_real, y_pred_final)\n",
    "\n",
    "print(f\"R² del promedio de modelos (bagging): {r2:.4f}\")"
   ]
  }
 ],
 "metadata": {
  "kernelspec": {
   "display_name": "Python 3 (ipykernel)",
   "language": "python",
   "name": "python3"
  },
  "language_info": {
   "codemirror_mode": {
    "name": "ipython",
    "version": 3
   },
   "file_extension": ".py",
   "mimetype": "text/x-python",
   "name": "python",
   "nbconvert_exporter": "python",
   "pygments_lexer": "ipython3",
   "version": "3.12.4"
  }
 },
 "nbformat": 4,
 "nbformat_minor": 5
}
